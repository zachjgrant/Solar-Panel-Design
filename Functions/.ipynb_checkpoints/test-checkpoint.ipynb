{
 "cells": [
  {
   "cell_type": "code",
   "execution_count": 1,
   "id": "59cb0bd8",
   "metadata": {},
   "outputs": [],
   "source": [
    "#Script for testing function files\n",
    "\n",
    "from func import n, delta, I_o, I_T, S, Q_u, eta\n",
    "import numpy as np\n",
    "import pandas as pd\n",
    "from prettytable import PrettyTable"
   ]
  },
  {
   "cell_type": "code",
   "execution_count": 2,
   "id": "3b76667f",
   "metadata": {},
   "outputs": [],
   "source": [
    "##Function handles\n",
    "# n(mon,day)\n",
    "# delta(n)\n",
    "# I_o(phi,delta,n)\n",
    "# I_T(I_o,kt,rho_g,phi,delta,beta,gamma,n)\n",
    "# S(I_o,kt,rho_g,phi,delta,beta,gamma,n,N,L,alpha_n)\n",
    "# Q_u(S,T_a,T_dp,T_fi,N,L_p,e,beta,W,D,D_i,delt,k_p,m_dot,A_c)\n",
    "# eta(Q_u,I_T,A_C)"
   ]
  },
  {
   "cell_type": "code",
   "execution_count": 3,
   "id": "bd1baa06",
   "metadata": {},
   "outputs": [],
   "source": [
    "##Variables\n",
    "# mon = month of the year (1-12)\n",
    "# day = day of the month\n",
    "# phi = latitude (deg)\n",
    "# I_o = extraterrestrial radiation on a horizontal surface  (J/m^2 per hour)\n",
    "# kt = monthly average clearness index for location\n",
    "# beta = angle of collector (deg)\n",
    "# gamma = surface azimuth angle of collector (deg)\n",
    "# rho_g = ground reflectance\n",
    "# n = day of the year\n",
    "# I_T = rasiation on the collector (J/m^2 per hour)\n",
    "# N = number of covers\n",
    "# L = thickness of glass cover(s) (m)\n",
    "# alpha_n = absorptance of the plate at normal incidence\n",
    "# S = radiation absorbed by the collector for the hour (J/m^2 per hour)\n",
    "# T_a = ambient temperature as an array of 24 values (K)\n",
    "# T_dp = dew point temperature as an array of 24 values (K)\n",
    "# T_fi = fluid inlet temperature (K)\n",
    "# L_p = distance between covers (m)\n",
    "# e = emissivity of surfaces from plate to outside cover\n",
    "# W = distance between tubes (m)\n",
    "# D = outside diamter of tubes (m)\n",
    "# D_i = inside diameter of tubes (m)\n",
    "# delt = plate thickness (m)\n",
    "# k_p = thermal conductivity of plate (W/mk) (Copper = 385 W/mK)\n",
    "# m_dot = mass flow rate of fluid (kg/min)\n",
    "# A_c = collector area (m^2)\n",
    "# Q_u = useful energy gain from collector (J/hr)\n",
    "# eta = collector efficiency"
   ]
  },
  {
   "cell_type": "code",
   "execution_count": 4,
   "id": "db73ffd5",
   "metadata": {},
   "outputs": [],
   "source": [
    "#Input\n",
    "mon = 7;\n",
    "day = 19;\n",
    "phi = 43.9; #deg\n",
    "kt = 0.6;\n",
    "beta = 15; #deg\n",
    "gamma = 10;\n",
    "rho_g = 0.4;\n",
    "N = 2;\n",
    "L = 0.003; #m\n",
    "alpha_n = 0.93;\n",
    "T_a = (np.array([61,61,61,61,61,61,63,65,67,70,73,75,76,77,78,79,75,70,69,68,67,65,65,62])-32)*5/9 + 273.15;\n",
    "T_dp = (np.array([61,61,61,61,61,61,62,62,63,64,65,65,66,66,66,66,64,65,64,63,62,62,62,62])-32)*5/9 + 273.15;\n",
    "T_fi = (120-32)*5/9+273.15; #120 deg F\n",
    "L_p = 0.015;\n",
    "e = np.array([0.95,0.88,0.88]);\n",
    "W = 0.15;\n",
    "D = 0.01;\n",
    "D_i = 0.008;\n",
    "delt = 0.0005;\n",
    "k_p = 385;\n",
    "m_dot = 1.0;\n",
    "A_c = 2;"
   ]
  },
  {
   "cell_type": "code",
   "execution_count": 5,
   "id": "52da6a39",
   "metadata": {},
   "outputs": [],
   "source": [
    "#Calculations\n",
    "n = n(mon,day);\n",
    "delta = delta(n)\n",
    "I_o = I_o(phi,delta,n);\n",
    "I_T = I_T(I_o,kt,rho_g,phi,delta,beta,gamma,n);\n",
    "S = S(I_o,kt,rho_g,phi,delta,beta,gamma,n,N,L,alpha_n);\n",
    "Q_u = Q_u(S,T_a,T_dp,T_fi,N,L_p,e,beta,W,D,D_i,delt,k_p,m_dot,A_c);\n",
    "eta = eta(Q_u,I_T,A_c)*100;"
   ]
  },
  {
   "cell_type": "code",
   "execution_count": 6,
   "id": "844efecb",
   "metadata": {},
   "outputs": [
    {
     "name": "stdout",
     "output_type": "stream",
     "text": [
      "+------------------------------------------------------------+\n",
      "|              Solar Collector Characteristics               |\n",
      "+-----------------------------------------------+------------+\n",
      "|                    Variable                   |   Value    |\n",
      "+-----------------------------------------------+------------+\n",
      "|                      Date                     |    7/19    |\n",
      "|                  Latitude (ϕ)                 |   43.9°    |\n",
      "|              Collector Slope (β)              |    15°     |\n",
      "|          Collector Azimuth Angle (γ)          |    10°     |\n",
      "|           Daily Clearness Index (kₜ)          |    0.6     |\n",
      "|             Ground Reflectance (ρ)            |    0.4     |\n",
      "|                # of Covers (N)                |     2      |\n",
      "|             Thickness of Cover (L)            |   3.0 mm   |\n",
      "| Absorptance of Plate at Normal Incidence (αₙ) |    0.93    |\n",
      "|          Fluid Inlet Temperature (T)          |   120°F    |\n",
      "|          Distance Between Plates (Lₚ)         |  15.0 mm   |\n",
      "|            Emissivity of Plate (εₚ)           |    0.95    |\n",
      "|           Distance Between Tubes (W)          |  150.0 mm  |\n",
      "|          Outer Diamter of Tubes (Dₒ)          |  10.0 mm   |\n",
      "|           Inner Diamter of Tubes (D)          |   8.0 mm   |\n",
      "|             Thickness of Plate (δ)            |   0.5 mm   |\n",
      "|       Thermal Conductivity of Plate (kₚ)      |  385 W/mK  |\n",
      "|            Fluid Mass Flow Rate (ṁ)           | 1.0 kg/min |\n",
      "|               Collector Area (A)              |    2 m²    |\n",
      "+-----------------------------------------------+------------+\n"
     ]
    },
    {
     "name": "stderr",
     "output_type": "stream",
     "text": [
      "<ipython-input-6-756f9ac9826f>:13: DeprecationWarning: `np.int` is a deprecated alias for the builtin `int`. To silence this warning, use `int` by itself. Doing this will not modify any behavior and is safe. When replacing `np.int`, you may wish to use e.g. `np.int64` or `np.int32` to specify the precision. If you wish to review your current use, check the release note link for additional information.\n",
      "Deprecated in NumPy 1.20; for more details and guidance: https://numpy.org/devdocs/release/1.20.0-notes.html#deprecations\n",
      "  ch.add_row([\"Fluid Inlet Temperature (T)\",str(np.int((T_fi-273.15)*9/5+32))+\"\\u00b0F\"]);\n"
     ]
    }
   ],
   "source": [
    "#Create characteristics table and print\n",
    "ch = PrettyTable([\"Variable\",\"Value\"]);\n",
    "ch.title = \"Solar Collector Characteristics\";\n",
    "ch.add_row([\"Date\",str(mon)+\"/\"+str(day)]);\n",
    "ch.add_row([\"Latitude (\\u03d5)\",str(phi)+\"\\u00b0\"]);\n",
    "ch.add_row([\"Collector Slope (\\u03b2)\",str(beta)+\"\\u00b0\"]);\n",
    "ch.add_row([\"Collector Azimuth Angle (\\u03b3)\",str(gamma)+\"\\u00b0\"]);\n",
    "ch.add_row([\"Daily Clearness Index (k\\u209c)\",str(kt)]);\n",
    "ch.add_row([\"Ground Reflectance (\\u03c1)\",str(rho_g)]);\n",
    "ch.add_row([\"# of Covers (N)\", str(N)]);\n",
    "ch.add_row([\"Thickness of Cover (L)\", str(L*1000) + \" mm\"]);\n",
    "ch.add_row([\"Absorptance of Plate at Normal Incidence (\\u03b1\\u2099)\", str(alpha_n)]);\n",
    "ch.add_row([\"Fluid Inlet Temperature (T)\",str(np.int((T_fi-273.15)*9/5+32))+\"\\u00b0F\"]);\n",
    "ch.add_row([\"Distance Between Plates (L\\u209a)\",str(L_p*1000)+\" mm\"]);\n",
    "ch.add_row([\"Emissivity of Plate (\\u03b5\\u209a)\",str(e[0])]);\n",
    "ch.add_row([\"Distance Between Tubes (W)\",str(W*1000)+\" mm\"]);\n",
    "ch.add_row([\"Outer Diamter of Tubes (D\\u2092)\",str(D*1000)+\" mm\"]);\n",
    "ch.add_row([\"Inner Diamter of Tubes (D)\",str(D_i*1000)+\" mm\"]);\n",
    "ch.add_row([\"Thickness of Plate (\\u03b4)\",str(delt*1000)+\" mm\"]);\n",
    "ch.add_row([\"Thermal Conductivity of Plate (k\\u209a)\",str(k_p)+\" W/mK\"]);\n",
    "ch.add_row([\"Fluid Mass Flow Rate (m\\u0307)\",str(m_dot)+\" kg/min\"]);\n",
    "ch.add_row([\"Collector Area (A)\",str(A_c)+\" m\\u00b2\"]);\n",
    "\n",
    "print(ch);"
   ]
  },
  {
   "cell_type": "code",
   "execution_count": 7,
   "id": "1a121a9f",
   "metadata": {},
   "outputs": [
    {
     "name": "stdout",
     "output_type": "stream",
     "text": [
      "+--------------------------------------------------------------------------------------------------------+\n",
      "|                                            Energy Analysis                                             |\n",
      "+-----+-----------------------+-------------------------+--------+--------+------+--------+--------------+\n",
      "| Hour|Ambient Temperature (F)|Dew Point Temperature (F)|I_o (kJ)|I_T (kJ)|S (kJ)|Q_u (kJ)|Efficiency (%)|\n",
      "+-----+-----------------------+-------------------------+--------+--------+------+--------+--------------+\n",
      "| 0-1 |           61          |            61           |  0.0   |  0.0   | 0.0  | -826.0 |     0.0      |\n",
      "| 1-2 |           61          |            61           |  0.0   |  0.0   | 0.0  | -826.0 |     0.0      |\n",
      "| 2-3 |           61          |            61           |  0.0   |  0.0   | 0.0  | -826.0 |     0.0      |\n",
      "| 3-4 |           61          |            61           |  0.0   |  0.0   | 0.0  | -826.0 |     0.0      |\n",
      "| 4-5 |           61          |            61           | 524.6  | 497.3  |348.3 | -249.6 |     0.0      |\n",
      "| 5-6 |           61          |            61           | 1207.8 | 1640.0 |848.6 | 568.6  |     17.3     |\n",
      "| 6-7 |           63          |            62           | 1207.8 | 2184.0 |1211.3| 1188.2 |     27.2     |\n",
      "| 7-8 |           65          |            62           | 1207.8 | 2438.8 |1650.1| 1928.2 |     39.5     |\n",
      "| 8-9 |           67          |            63           | 1207.8 | 2561.7 |1855.7| 2289.7 |     44.7     |\n",
      "| 9-10|           70          |            64           | 1207.8 | 2632.6 |1944.1| 2478.2 |     47.1     |\n",
      "|10-11|           73          |            65           | 1207.8 | 2677.3 |1988.3| 2595.9 |     48.5     |\n",
      "|11-12|           75          |            65           | 1207.8 | 2706.1 |2013.1| 2667.2 |     49.3     |\n",
      "|12-13|           76          |            66           | 1207.8 | 2723.7 |2027.0| 2705.1 |     49.7     |\n",
      "|13-14|           77          |            66           | 1207.8 | 2731.4 |2031.6| 2727.6 |     49.9     |\n",
      "|14-15|           78          |            66           | 1207.8 | 2728.4 |2023.3| 2729.3 |     50.0     |\n",
      "|15-16|           79          |            66           | 1207.8 | 2710.2 |1986.8| 2685.6 |     49.5     |\n",
      "|16-17|           75          |            64           | 1207.8 | 2663.9 |1871.1| 2438.5 |     45.8     |\n",
      "|17-18|           70          |            65           | 1207.8 | 2548.3 |1535.7| 1820.6 |     35.7     |\n",
      "|18-19|           69          |            64           | 1207.8 | 2140.5 |966.4 | 876.5  |     20.5     |\n",
      "|19-20|           68          |            63           | 524.6  | 507.4  |348.3 | -149.2 |     0.0      |\n",
      "|20-21|           67          |            62           |  0.0   |  0.0   | 0.0  | -738.4 |     0.0      |\n",
      "|21-22|           65          |            62           |  0.0   |  0.0   | 0.0  | -767.8 |     0.0      |\n",
      "|22-23|           65          |            62           |  0.0   |  0.0   | 0.0  | -767.8 |     0.0      |\n",
      "|23-24|           62          |            62           |  0.0   |  0.0   | 0.0  | -811.5 |     0.0      |\n",
      "+-----+-----------------------+-------------------------+--------+--------+------+--------+--------------+\n"
     ]
    }
   ],
   "source": [
    "#Create output table and print\n",
    "T_a_t = np.round((T_a-273.15)*(9/5)+32,1);\n",
    "T_a_t = T_a_t.astype(int);\n",
    "T_dp_t = np.round((T_dp-273.15)*(9/5)+32,1);\n",
    "T_dp_t = T_dp_t.astype(int);\n",
    "I_o_t = np.round(I_o/3600,1);\n",
    "I_T_t = np.round(I_T/1e3,1);\n",
    "S_t = np.round(S/1e3,1);\n",
    "Q_u_t = np.round(Q_u/1e3,1);\n",
    "eta_t = np.round(eta,1);\n",
    "out = PrettyTable([\"Hour\",\"Ambient Temperature (F)\", \"Dew Point Temperature (F)\",\"I_o (kJ)\",\"I_T (kJ)\",\"S (kJ)\",\"Q_u (kJ)\",\"Efficiency (%)\"]);\n",
    "out.title = \"Energy Analysis\";\n",
    "out.padding_width = 0;\n",
    "hour = [\"0-1\",\"1-2\",\"2-3\",\"3-4\",\"4-5\",\"5-6\",\"6-7\",\"7-8\",\"8-9\",\"9-10\",\"10-11\",\"11-12\",\"12-13\",\"13-14\",\"14-15\",\"15-16\",\"16-17\",\"17-18\",\"18-19\",\"19-20\",\"20-21\",\"21-22\",\"22-23\",\"23-24\"];\n",
    "for i in range(24):\n",
    "\tout.add_row([hour[i],T_a_t[i],T_dp_t[i],I_o_t[i],I_T_t[i],S_t[i],Q_u_t[i],eta_t[i]]);\n",
    "\n",
    "print(out);"
   ]
  },
  {
   "cell_type": "code",
   "execution_count": null,
   "id": "e6b7de2d",
   "metadata": {},
   "outputs": [],
   "source": []
  }
 ],
 "metadata": {
  "kernelspec": {
   "display_name": "Python 3",
   "language": "python",
   "name": "python3"
  },
  "language_info": {
   "codemirror_mode": {
    "name": "ipython",
    "version": 3
   },
   "file_extension": ".py",
   "mimetype": "text/x-python",
   "name": "python",
   "nbconvert_exporter": "python",
   "pygments_lexer": "ipython3",
   "version": "3.8.10"
  }
 },
 "nbformat": 4,
 "nbformat_minor": 5
}
